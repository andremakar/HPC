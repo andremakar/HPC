{
  "nbformat": 4,
  "nbformat_minor": 0,
  "metadata": {
    "colab": {
      "name": "Копия блокнота \"Lab_0_Mat_Mul_Makarov_AR_6131.ipynb\"",
      "provenance": [],
      "collapsed_sections": []
    },
    "kernelspec": {
      "name": "python3",
      "display_name": "Python 3"
    },
    "language_info": {
      "name": "python"
    },
    "accelerator": "GPU"
  },
  "cells": [
    {
      "cell_type": "code",
      "metadata": {
        "id": "jTfHXD0Kt_tk"
      },
      "source": [
        "import math\n",
        "import numpy as np\n",
        "from numba import cuda, jit, float64\n",
        "import time\n",
        "from datetime import datetime\n",
        "N = 128                        # 128/256/512/1024\n",
        "A = np.random.random((N, N))   #Матрицы для умножения\n",
        "B = np.random.random((N, N))\n",
        "C = np.zeros((N, N))           # создание матрицы \"С\" - \"матрица результат\""
      ],
      "execution_count": null,
      "outputs": []
    },
    {
      "cell_type": "code",
      "metadata": {
        "colab": {
          "base_uri": "https://localhost:8080/"
        },
        "id": "WHn6kLuIWcUH",
        "outputId": "ad2eb829-e21d-4313-ef8f-a55f7b185e64"
      },
      "source": [
        "def cpu_MM(A, B, C):\n",
        "    for i in range(C.shape[0]):\n",
        "        for j in range(C.shape[1]):                     # Цикл перемножения матриц\n",
        "            summation = 0\n",
        "            for k in range(A.shape[1]):\n",
        "                summation += A[i, k] * B[k, j]  #Перемножение очередных элементов \n",
        "            C[i, j] = summation                 #Запись в ячейку выходной матрицы\n",
        "\n",
        "start = datetime.now()        # Для замера времени\n",
        "cpu_MM(A, B, C) \n",
        "print('MatMul на CPU -', datetime.now() - start)\n",
        "host_mat_1 = C                #Для проверки на корректность умножения \n"
      ],
      "execution_count": null,
      "outputs": [
        {
          "output_type": "stream",
          "name": "stdout",
          "text": [
            "MatMul на CPU - 0:00:01.271411\n"
          ]
        }
      ]
    },
    {
      "cell_type": "code",
      "metadata": {
        "colab": {
          "base_uri": "https://localhost:8080/"
        },
        "id": "uKEEYCtcSp5d",
        "outputId": "5d8aa495-8852-4106-96cd-2ae25065985d"
      },
      "source": [
        "@jit\n",
        "def cpu_MMJ(A, B, C):\n",
        "    for i in range(C.shape[0]):\n",
        "        for j in range(C.shape[1]):\n",
        "            summation = 0\n",
        "            for k in range(A.shape[1]):\n",
        "                summation += A[i, k] * B[k, j]\n",
        "            C[i, j] = summation\n",
        "start = datetime.now()        # Для замера времени\n",
        "cpu_MMJ(A, B, C) \n",
        "print('CPU MatMul c применением компилятора numba - jit', datetime.now() - start)\n",
        "host_mat_2 = C              #Для проверки на корректность умножения \n"
      ],
      "execution_count": null,
      "outputs": [
        {
          "output_type": "stream",
          "name": "stdout",
          "text": [
            "CPU MatMul c применением компилятора numba - jit 0:00:00.210743\n"
          ]
        }
      ]
    },
    {
      "cell_type": "code",
      "metadata": {
        "colab": {
          "base_uri": "https://localhost:8080/"
        },
        "id": "lt61NvGnZWY5",
        "outputId": "95d07507-e804-4846-cf34-1e0cc332c946"
      },
      "source": [
        "@cuda.jit\n",
        "def mat_mul_naive_kernal(A, B, C):\n",
        "    i, j = cuda.grid(2)                       # Эта строчка говорит что i и j - индексы двумерной сети куды\n",
        "    if i < C.shape[0] and j < C.shape[1]:\n",
        "        summation = 0\n",
        "        for k in range(A.shape[1]):\n",
        "            summation += A[i, k] * B[k, j]\n",
        "        C[i, j] = summation\n",
        "\n",
        "\n",
        "TPB = 16\n",
        "def host_naive(A, B, C):\n",
        "\n",
        "    d_A = cuda.to_device(A)                     # Выделяем куда ядра под значения матриц\n",
        "    d_B = cuda.to_device(B)\n",
        "    d_C = cuda.device_array(C.shape, np.float64)  \n",
        "    #\"Вычисление размера сети\"\n",
        "    threadsperblock = (TPB, TPB)            # Размер блока 16*16 потоков             \n",
        "    blockspergrid_x = math.ceil(A.shape[0] / threadsperblock[0])      # делю размер матрицы \"А\" на размер блока и получаю количество блоков на все потоки по Х\n",
        "    blockspergrid_y = math.ceil(B.shape[1] / threadsperblock[1])        # по Y матрицу\"В\"\n",
        "    blockspergrid = (blockspergrid_x, blockspergrid_y)        # Указываю вычесленые количество блоков для указания размеров сети Х на Y\n",
        "\n",
        "    mat_mul_naive_kernal[blockspergrid, threadsperblock](d_A, d_B, d_C)       #\n",
        "\n",
        "    return d_C.copy_to_host()\n",
        "start = datetime.now()        # Для замера времени\n",
        "ans = host_naive(A, B, C)\n",
        "print('GPU MM с cuda.jit:', datetime.now() - start)\n",
        "dev_mat = C       # Для проверки на корректность умножения "
      ],
      "execution_count": null,
      "outputs": [
        {
          "output_type": "stream",
          "name": "stdout",
          "text": [
            "GPU MM с cuda.jit: 0:00:00.218543\n"
          ]
        }
      ]
    },
    {
      "cell_type": "code",
      "metadata": {
        "colab": {
          "base_uri": "https://localhost:8080/"
        },
        "id": "Q5HDmNKgh4A3",
        "outputId": "1c21a95a-c2d1-49da-c96e-172ddf383141"
      },
      "source": [
        "print(np.allclose(dev_mat, host_mat_2)) # Проверка корректного умножения на ЦПУ И ГПУ, True = входные значения в функцию np равны\n",
        "print(np.allclose(dev_mat, host_mat_1))"
      ],
      "execution_count": null,
      "outputs": [
        {
          "output_type": "stream",
          "name": "stdout",
          "text": [
            "True\n",
            "True\n"
          ]
        }
      ]
    }
  ]
}