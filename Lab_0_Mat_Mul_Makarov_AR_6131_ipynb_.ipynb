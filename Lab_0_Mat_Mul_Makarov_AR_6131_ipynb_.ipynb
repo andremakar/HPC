{
  "nbformat": 4,
  "nbformat_minor": 0,
  "metadata": {
    "colab": {
      "name": "Копия блокнота \"Lab_0_Mat_Mul_Makarov_AR_6131.ipynb\"",
      "provenance": [],
      "collapsed_sections": []
    },
    "kernelspec": {
      "name": "python3",
      "display_name": "Python 3"
    },
    "language_info": {
      "name": "python"
    },
    "accelerator": "GPU"
  },
  "cells": [
    {
      "cell_type": "code",
      "metadata": {
        "id": "jTfHXD0Kt_tk"
      },
      "source": [
        "import math\n",
        "import numpy as np\n",
        "from numba import cuda, jit, float64\n",
        "import time\n",
        "from datetime import datetime\n",
        "N = 256                       # 128/256/512/1024\n",
        "A = np.random.random((N, N))   #Матрицы для умножения\n",
        "B = np.random.random((N, N))\n",
        "C = np.zeros((N, N))           # создание матрицы \"С\" - \"матрица результат\""
      ],
      "execution_count": 1,
      "outputs": []
    },
    {
      "cell_type": "code",
      "metadata": {
        "colab": {
          "base_uri": "https://localhost:8080/"
        },
        "id": "WHn6kLuIWcUH",
        "outputId": "777dff92-7205-455b-899c-e848fb2f7b3b"
      },
      "source": [
        "def cpu_MM(A, B, C):\n",
        "    for i in range(C.shape[0]):\n",
        "        for j in range(C.shape[1]):                     # Цикл перемножения матриц\n",
        "            summation = 0\n",
        "            for k in range(A.shape[1]):\n",
        "                summation += A[i, k] * B[k, j]  #Перемножение очередных элементов \n",
        "            C[i, j] = summation                 #Запись в ячейку выходной матрицы\n",
        "\n",
        "start = datetime.now()        # Для замера времени\n",
        "cpu_MM(A, B, C) \n",
        "print('MatMul на CPU -', datetime.now() - start)\n",
        "host_mat_1 = C                #Для проверки на корректность умножения \n"
      ],
      "execution_count": 2,
      "outputs": [
        {
          "output_type": "stream",
          "name": "stdout",
          "text": [
            "MatMul на CPU - 0:00:10.837405\n"
          ]
        }
      ]
    },
    {
      "cell_type": "code",
      "metadata": {
        "colab": {
          "base_uri": "https://localhost:8080/"
        },
        "id": "uKEEYCtcSp5d",
        "outputId": "64b09a14-81ae-4fc4-9e9a-396c542f49c1"
      },
      "source": [
        "@jit\n",
        "def cpu_MMJ(A, B, C):\n",
        "    for i in range(C.shape[0]):\n",
        "        for j in range(C.shape[1]):\n",
        "            summation = 0\n",
        "            for k in range(A.shape[1]):\n",
        "                summation += A[i, k] * B[k, j]\n",
        "            C[i, j] = summation\n",
        "start = datetime.now()        # Для замера времени\n",
        "cpu_MMJ(A, B, C) \n",
        "print('CPU MatMul c применением компилятора numba - jit', datetime.now() - start)\n",
        "host_mat_2 = C              #Для проверки на корректность умножения \n"
      ],
      "execution_count": 3,
      "outputs": [
        {
          "output_type": "stream",
          "name": "stdout",
          "text": [
            "CPU MatMul c применением компилятора numba - jit 0:00:00.478626\n"
          ]
        }
      ]
    },
    {
      "cell_type": "code",
      "metadata": {
        "colab": {
          "base_uri": "https://localhost:8080/"
        },
        "id": "lt61NvGnZWY5",
        "outputId": "30474c73-77ef-4b39-bcfc-c7f56a4673f7"
      },
      "source": [
        "@cuda.jit\n",
        "def mat_mul_naive_kernal(A, B, C):\n",
        "    #Определяем текущую позицию двумерной сети на GPU\n",
        "    #i, j = cuda.grid(2)                       # <---- Можно записать так\n",
        "    i = cuda.blockIdx.x * cuda.blockDim.x + cuda.threadIdx.x\n",
        "    j = cuda.blockIdx.y * cuda.blockDim.y + cuda.threadIdx.y\n",
        "    if i < C.shape[0] and j < C.shape[1]:\n",
        "        summation = 0\n",
        "        for k in range(A.shape[1]):\n",
        "            summation += A[i, k] * B[k, j]\n",
        "        C[i, j] = summation\n",
        "\n",
        "\n",
        "TPB = 16\n",
        "def host_naive(A, B, C):\n",
        "\n",
        "    d_A = cuda.to_device(A)                     # Выделяем куда ядра под значения матриц\n",
        "    d_B = cuda.to_device(B)\n",
        "    d_C = cuda.device_array(C.shape, np.float64)  \n",
        "    #\"Вычисление размера сети\"\n",
        "    threadsperblock = (TPB, TPB)            # Размер блока 16*16 потоков             \n",
        "    blockspergrid_x = math.ceil(A.shape[0] / threadsperblock[0])      # делю размер матрицы \"А\" на размер блока и получаю количество блоков на все потоки по Х\n",
        "    blockspergrid_y = math.ceil(B.shape[1] / threadsperblock[1])        # по Y матрицу\"В\"\n",
        "    blockspergrid = (blockspergrid_x, blockspergrid_y)        # Указываю вычесленые количество блоков для указания размеров сети Х на Y\n",
        "\n",
        "    mat_mul_naive_kernal[blockspergrid, threadsperblock](d_A, d_B, d_C)       #\n",
        "\n",
        "    return d_C.copy_to_host()\n",
        "start = datetime.now()        # Для замера времени\n",
        "ans = host_naive(A, B, C)\n",
        "print('GPU MM с cuda.jit:', datetime.now() - start)\n",
        "dev_mat = C       # Для проверки на корректность умножения "
      ],
      "execution_count": 6,
      "outputs": [
        {
          "output_type": "stream",
          "name": "stdout",
          "text": [
            "GPU MM с cuda.jit: 0:00:00.237210\n"
          ]
        }
      ]
    },
    {
      "cell_type": "code",
      "metadata": {
        "colab": {
          "base_uri": "https://localhost:8080/"
        },
        "id": "Q5HDmNKgh4A3",
        "outputId": "49d9b8d4-2717-4f5f-99b2-7ef2dbbb610a"
      },
      "source": [
        "print(np.allclose(dev_mat, host_mat_2)) # Проверка корректного умножения на ЦПУ И ГПУ, True = входные значения в функцию np равны\n",
        "print(np.allclose(dev_mat, host_mat_1))"
      ],
      "execution_count": 5,
      "outputs": [
        {
          "output_type": "stream",
          "name": "stdout",
          "text": [
            "True\n",
            "True\n"
          ]
        }
      ]
    }
  ]
}