{
  "nbformat": 4,
  "nbformat_minor": 0,
  "metadata": {
    "colab": {
      "name": "pi_value.ipynb",
      "provenance": []
    },
    "kernelspec": {
      "name": "python3",
      "display_name": "Python 3"
    },
    "language_info": {
      "name": "python"
    },
    "accelerator": "GPU"
  },
  "cells": [
    {
      "cell_type": "code",
      "metadata": {
        "id": "F8GXFNNERLHT"
      },
      "source": [
        "from datetime import datetime\n",
        "import numpy as np\n",
        "from numba import cuda\n",
        "from tabulate import tabulate\n",
        "import matplotlib.pyplot as plt\n",
        "from numba.cuda.random import create_xoroshiro128p_states, xoroshiro128p_uniform_float32 "
      ],
      "execution_count": 76,
      "outputs": []
    },
    {
      "cell_type": "code",
      "metadata": {
        "id": "hTooAJ8FJjmE"
      },
      "source": [
        "TPB = 16\n",
        "count_iter = 16\n",
        "BPG = int(count_iter/TPB)"
      ],
      "execution_count": 77,
      "outputs": []
    },
    {
      "cell_type": "code",
      "metadata": {
        "id": "txbpBF-hKe5V"
      },
      "source": [
        "def Calcul_on_CPU(count_iter, N):\n",
        "    res = np.zeros(count_iter)\n",
        "    for i in range(count_iter):\n",
        "        x = np.random.uniform(size=N)\n",
        "        y = np.random.uniform(size=N)\n",
        "        z = x ** 2 + y ** 2 <= 1\n",
        "        res[i] = 4.0 * sum(z) / N\n",
        "    return res"
      ],
      "execution_count": 78,
      "outputs": []
    },
    {
      "cell_type": "code",
      "metadata": {
        "id": "0M9y2laxtB-k"
      },
      "source": [
        "@cuda.jit \n",
        "def pi_calcul(res, rng):\n",
        "  i = cuda.blockIdx.x * cuda.blockDim.x + cuda.threadIdx.x\n",
        "  h = 0\n",
        "  if i < len(rng):\n",
        "    x = xoroshiro128p_uniform_float32(rng, i)\n",
        "    y = xoroshiro128p_uniform_float32(rng, i)\n",
        "    if x ** 2 + y ** 2 <= 1.0:\n",
        "      h += 1\n",
        "  cuda.atomic.add(res, 0, h)"
      ],
      "execution_count": 79,
      "outputs": []
    },
    {
      "cell_type": "code",
      "metadata": {
        "id": "oEESPEaEPAFH"
      },
      "source": [
        "def Calcul_on_GPU(N):\n",
        "\n",
        "  rng_states = create_xoroshiro128p_states(N, seed=1)\n",
        "  res = [0]\n",
        "\n",
        "  dev_res = cuda.to_device(res)\n",
        "  pi_calcul[N, TPB](dev_res, rng_states)\n",
        "  tmp_ = dev_res.copy_to_host()\n",
        "  pi_ = 4 * tmp_[0] / N\n",
        "  return pi_\n",
        "  "
      ],
      "execution_count": 80,
      "outputs": []
    },
    {
      "cell_type": "code",
      "metadata": {
        "id": "wCgPHtaMyQih"
      },
      "source": [
        "def main(iter_ , N):\n",
        "  #Эксперименты на CPU и GPU\n",
        "  for i in range(iter_):\n",
        "    print(\"Номер итерации:\" + str(i+1))\n",
        "    start = datetime.now()\n",
        "    cpu_pi = Calcul_on_CPU(count_iter, N).mean()\n",
        "    print(\"Время выполения на CPU - \"+ str(datetime.now()- start))\n",
        "    print(\"Число Pi - \" + str(cpu_pi))\n",
        "    start = datetime.now()\n",
        "    gpu_pi = Calcul_on_GPU(N)\n",
        "    print(\"Время выполения на GPU - \"+ str(datetime.now()- start))\n",
        "    print(\"Число Pi - \" + str(gpu_pi))\n",
        "    print(\"\")\n",
        "    N = N + 10000\n",
        "  return None\n",
        "\n"
      ],
      "execution_count": 81,
      "outputs": []
    },
    {
      "cell_type": "code",
      "metadata": {
        "colab": {
          "base_uri": "https://localhost:8080/"
        },
        "id": "ZMqsUnKoAJR6",
        "outputId": "92d53954-778e-4d59-a498-9c1ac42d6b2b"
      },
      "source": [
        "main(10, 10000)"
      ],
      "execution_count": 83,
      "outputs": [
        {
          "output_type": "stream",
          "name": "stdout",
          "text": [
            "Номер итерации:1\n",
            "Время выполения на CPU - 0:00:00.449358\n",
            "Число Pi - 3.1443250000000003\n",
            "Время выполения на GPU - 0:00:00.005631\n",
            "Число Pi - 3.1552\n",
            "\n",
            "Номер итерации:2\n",
            "Время выполения на CPU - 0:00:00.920117\n",
            "Число Pi - 3.141425\n",
            "Время выполения на GPU - 0:00:00.008749\n",
            "Число Pi - 3.1578\n",
            "\n",
            "Номер итерации:3\n",
            "Время выполения на CPU - 0:00:01.329403\n",
            "Число Pi - 3.1395999999999997\n",
            "Время выполения на GPU - 0:00:00.011196\n",
            "Число Pi - 3.1508\n",
            "\n",
            "Номер итерации:4\n",
            "Время выполения на CPU - 0:00:01.755199\n",
            "Число Pi - 3.1411187500000004\n",
            "Время выполения на GPU - 0:00:00.014902\n",
            "Число Pi - 3.1471\n",
            "\n",
            "Номер итерации:5\n",
            "Время выполения на CPU - 0:00:02.278638\n",
            "Число Pi - 3.1429650000000002\n",
            "Время выполения на GPU - 0:00:00.019343\n",
            "Число Pi - 3.14304\n",
            "\n",
            "Номер итерации:6\n",
            "Время выполения на CPU - 0:00:02.695535\n",
            "Число Pi - 3.1409791666666664\n",
            "Время выполения на GPU - 0:00:00.020945\n",
            "Число Pi - 3.1470666666666665\n",
            "\n",
            "Номер итерации:7\n",
            "Время выполения на CPU - 0:00:03.095004\n",
            "Число Pi - 3.1428964285714285\n",
            "Время выполения на GPU - 0:00:00.024042\n",
            "Число Pi - 3.147542857142857\n",
            "\n",
            "Номер итерации:8\n",
            "Время выполения на CPU - 0:00:03.473115\n",
            "Число Pi - 3.142209375\n",
            "Время выполения на GPU - 0:00:00.025874\n",
            "Число Pi - 3.14745\n",
            "\n",
            "Номер итерации:9\n",
            "Время выполения на CPU - 0:00:03.700496\n",
            "Число Pi - 3.1411944444444444\n",
            "Время выполения на GPU - 0:00:00.029340\n",
            "Число Pi - 3.1453777777777776\n",
            "\n",
            "Номер итерации:10\n",
            "Время выполения на CPU - 0:00:04.026910\n",
            "Число Pi - 3.1420325\n",
            "Время выполения на GPU - 0:00:00.031820\n",
            "Число Pi - 3.14372\n",
            "\n"
          ]
        }
      ]
    }
  ]
}