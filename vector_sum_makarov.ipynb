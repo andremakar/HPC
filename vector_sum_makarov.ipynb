{
  "nbformat": 4,
  "nbformat_minor": 0,
  "metadata": {
    "colab": {
      "name": "Lab_1_vec_sum_makarov.ipynb",
      "provenance": [],
      "collapsed_sections": []
    },
    "kernelspec": {
      "name": "python3",
      "display_name": "Python 3"
    },
    "language_info": {
      "name": "python"
    },
    "accelerator": "GPU"
  },
  "cells": [
    {
      "cell_type": "code",
      "metadata": {
        "id": "KrlJ7md4FKB4"
      },
      "source": [
        "import math\n",
        "import numpy as np\n",
        "from numba import cuda, jit, int32\n",
        "from datetime import datetime"
      ],
      "execution_count": 74,
      "outputs": []
    },
    {
      "cell_type": "code",
      "metadata": {
        "colab": {
          "base_uri": "https://localhost:8080/"
        },
        "id": "tfNMZcXYE-jW",
        "outputId": "fed2d536-77e0-407a-d1ad-40dae34dfa35"
      },
      "source": [
        "TPB = 32\n",
        "len_ = 1000\n",
        "a = []\n",
        "for i in range(len_):\n",
        "  a.append(i)\n",
        "b= []\n",
        "for i in range(int((len_)/2)):\n",
        "  b.append(a[-1])\n",
        "  a.pop()\n",
        "\n",
        "col_ = (math.ceil((len(a))/TPB))\n",
        "\n",
        "c1 = np.zeros(1, dtype = np.int64)\n",
        "start = datetime.now()\n",
        "Z = sum(a) + sum(b)\n",
        "print(Z)\n",
        "Z_time = datetime.now()-start\n",
        "print(Z_time)"
      ],
      "execution_count": 94,
      "outputs": [
        {
          "output_type": "stream",
          "name": "stdout",
          "text": [
            "499500\n",
            "0:00:00.000311\n"
          ]
        }
      ]
    },
    {
      "cell_type": "code",
      "metadata": {
        "id": "pmnPatkpFInc"
      },
      "source": [
        "@cuda.jit\n",
        "def dev_vec_sum(a, b, c):\n",
        "  idx = cuda.blockIdx.x * cuda.blockDim.x + cuda.threadIdx.x\n",
        "  sum = 0\n",
        "  if idx < len(a):\n",
        "    \n",
        "    sum += a[idx]+b[idx]\n",
        "    cuda.atomic.add(c, 0, sum)\n",
        "    \n",
        "def DeviceHost(a, b, c, col_):\n",
        "    dev_a = cuda.to_device(a)\n",
        "    dev_b = cuda.to_device(b)\n",
        "    dev_c = cuda.to_device(c)\n",
        "    start = datetime.now()\n",
        "    dev_vec_sum[col_, TPB](dev_a, dev_b, dev_c)\n",
        "    itog_time = datetime.now()-start\n",
        "    print(datetime.now()-start)\n",
        "    return dev_c.copy_to_host(), itog_time"
      ],
      "execution_count": 82,
      "outputs": []
    },
    {
      "cell_type": "code",
      "metadata": {
        "colab": {
          "base_uri": "https://localhost:8080/"
        },
        "id": "hjH8SxOhHYKZ",
        "outputId": "d149c904-aa56-448d-f141-c1c307ea5ddf"
      },
      "source": [
        "res, itog_time = DeviceHost(a, b, c1, col_)\n",
        "print(Z, Z_time)\n",
        "print(res[0], itog_time)"
      ],
      "execution_count": 83,
      "outputs": [
        {
          "output_type": "stream",
          "name": "stdout",
          "text": [
            "0:00:00.174547\n",
            "499500 0:00:00.000214\n",
            "499500 0:00:00.174539\n"
          ]
        }
      ]
    },
    {
      "cell_type": "code",
      "metadata": {
        "id": "iTXUub7yCWSZ",
        "colab": {
          "base_uri": "https://localhost:8080/"
        },
        "outputId": "afc3392f-e6de-4cf9-d1b9-7e1023de06d5"
      },
      "source": [
        "itog_mass = []\n",
        "Z_mass = []\n",
        "TPB = 32\n",
        "len_ = 1000\n",
        "for k_ in range(5): \n",
        "  \n",
        "  a = []\n",
        "  for i in range(len_):\n",
        "    a.append(i)\n",
        "  b= []\n",
        "  for i in range(int((len_)/2)):\n",
        "    b.append(a[-1])\n",
        "    a.pop()\n",
        "  col_ = (math.ceil((len(a))/TPB))  \n",
        "  c1 = np.zeros(1, dtype = np.int64)\n",
        "  start = datetime.now()\n",
        "  Z = sum(a) + sum(b)\n",
        "  Z_time = datetime.now()-start\n",
        "\n",
        "  res, itog_time = DeviceHost(a, b, c1, col_)\n",
        "  print(Z, Z_time)\n",
        "  print(res[0], itog_time)\n",
        "  itog_mass.append(itog_time)\n",
        "  Z_mass.append(Z_time)\n",
        "  len_ = len_*10"
      ],
      "execution_count": 106,
      "outputs": [
        {
          "output_type": "stream",
          "name": "stdout",
          "text": [
            "0:00:00.000542\n",
            "499500 0:00:00.000019\n",
            "499500 0:00:00.000537\n",
            "0:00:00.000691\n",
            "49995000 0:00:00.000069\n",
            "49995000 0:00:00.000684\n",
            "0:00:00.000370\n",
            "4999950000 0:00:00.000751\n",
            "4999950000 0:00:00.000365\n",
            "0:00:00.000563\n",
            "499999500000 0:00:00.007951\n",
            "499999500000 0:00:00.000556\n",
            "0:00:00.000521\n",
            "49999995000000 0:00:00.073925\n",
            "49999995000000 0:00:00.000516\n"
          ]
        }
      ]
    },
    {
      "cell_type": "code",
      "metadata": {
        "colab": {
          "base_uri": "https://localhost:8080/"
        },
        "id": "gGu3pK-ixN5z",
        "outputId": "ada8bfdf-9196-478b-c020-183a930ed999"
      },
      "source": [
        "print(Z_mass)\n",
        "print(itog_mass)"
      ],
      "execution_count": 104,
      "outputs": [
        {
          "output_type": "stream",
          "name": "stdout",
          "text": [
            "[datetime.timedelta(microseconds=11), datetime.timedelta(microseconds=109), datetime.timedelta(microseconds=788), datetime.timedelta(microseconds=7090), datetime.timedelta(microseconds=74538)]\n",
            "[datetime.timedelta(microseconds=522), datetime.timedelta(microseconds=422), datetime.timedelta(microseconds=756), datetime.timedelta(microseconds=518), datetime.timedelta(microseconds=496)]\n"
          ]
        }
      ]
    }
  ]
}
